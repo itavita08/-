{
 "cells": [
  {
   "cell_type": "markdown",
   "id": "4d3fc681",
   "metadata": {},
   "source": [
    "## 스택\n",
    "- 영어로 쌓다라는 의미\n",
    "- 프로그래밍에서 목록 혹은 리스트에서 접근이 한 쪽에서만 가능한 구조\n",
    "- LIFO(Last in, First out)\n",
    "- 인터넷 브라우저 이전, 다음페이지/ 깊이우선탐색(DFS)에서 활용\n",
    "- `push`: 삽입, `peek`: 가장 나중에 들어간 데이터 확인, `pop`: 삭제"
   ]
  },
  {
   "cell_type": "markdown",
   "id": "2d27cb63",
   "metadata": {},
   "source": [
    "### PYTHON 스택 직접 구현"
   ]
  },
  {
   "cell_type": "code",
   "execution_count": 2,
   "id": "1eae03d5",
   "metadata": {},
   "outputs": [],
   "source": [
    "class Stack(list):\n",
    "    push = list.append  # 추가\n",
    "    \n",
    "    def peek(self):    \n",
    "        return self[-1]  # 가장 마지막 데이터 확인 \n",
    "        # return [len(self)-1]\n",
    "    "
   ]
  },
  {
   "cell_type": "code",
   "execution_count": 7,
   "id": "a144c724",
   "metadata": {},
   "outputs": [
    {
     "name": "stdout",
     "output_type": "stream",
     "text": [
      "[1, 5, 10]\n",
      "10\n",
      "5\n"
     ]
    }
   ],
   "source": [
    "# push\n",
    "s = Stack()\n",
    "s.push(1)\n",
    "s.push(5)\n",
    "s.push(10)\n",
    "print(s)\n",
    "# pop\n",
    "print(s.pop())\n",
    "# peek\n",
    "print(s.peek())"
   ]
  },
  {
   "cell_type": "markdown",
   "id": "312452b5",
   "metadata": {},
   "source": [
    "### PYTHON List를 스택으로 활용"
   ]
  },
  {
   "cell_type": "code",
   "execution_count": 10,
   "id": "cf236065",
   "metadata": {},
   "outputs": [
    {
     "name": "stdout",
     "output_type": "stream",
     "text": [
      "[1, 5, 10]\n",
      "10\n",
      "5\n"
     ]
    }
   ],
   "source": [
    "s = []\n",
    "# push\n",
    "s.append(1)\n",
    "s.append(5)\n",
    "s.append(10)\n",
    "print(s)\n",
    "# pop\n",
    "print(s.pop())\n",
    "# peek\n",
    "print(s[-1])"
   ]
  },
  {
   "cell_type": "markdown",
   "id": "47936383",
   "metadata": {},
   "source": [
    "## 큐\n",
    "- 영어로 일이 처리되기를 기다리는 리스트라는 의미\n",
    "- 프로그래밍에서 목록 혹은 리스트에서 접근이 양쪽에서 가능한 구조\n",
    "- FIFO(First in, First out)\n",
    "- 프린트 인쇄 대기열 / 너비우선탐색(BFS)\n",
    "- put: 삽입, peek: 가장 처음 데이터 확인, get: 삭제"
   ]
  },
  {
   "cell_type": "markdown",
   "id": "476e0908",
   "metadata": {},
   "source": [
    "### PYTHON 큐 직접 구현"
   ]
  },
  {
   "cell_type": "code",
   "execution_count": 11,
   "id": "e6f56b28",
   "metadata": {},
   "outputs": [],
   "source": [
    "class Queue(list):\n",
    "    put = list.append  # 추가\n",
    "    \n",
    "    def peek(self):  # 확인\n",
    "        return self[0]\n",
    "    \n",
    "    def get(self):  # 삭제\n",
    "        return self.pop(0)"
   ]
  },
  {
   "cell_type": "code",
   "execution_count": 15,
   "id": "200bb478",
   "metadata": {},
   "outputs": [
    {
     "name": "stdout",
     "output_type": "stream",
     "text": [
      "[1, 5, 10]\n",
      "1\n",
      "5\n"
     ]
    }
   ],
   "source": [
    "q = Queue()\n",
    "# 삽입\n",
    "q.put(1)\n",
    "q.put(5)\n",
    "q.put(10)\n",
    "print(q)\n",
    "# 삭제\n",
    "print(q.get())\n",
    "# 확인\n",
    "print(q.peek())"
   ]
  },
  {
   "cell_type": "markdown",
   "id": "7529309b",
   "metadata": {},
   "source": [
    "### PYTHON 구현된 클래스 import"
   ]
  },
  {
   "cell_type": "code",
   "execution_count": 34,
   "id": "f900017f",
   "metadata": {},
   "outputs": [
    {
     "name": "stdout",
     "output_type": "stream",
     "text": [
      "<queue.Queue object at 0x00000143FED41B80>\n",
      "1\n"
     ]
    }
   ],
   "source": [
    "from queue import Queue\n",
    "\n",
    "q = Queue()\n",
    "q.put(1)\n",
    "q.put(5)\n",
    "q.put(10)\n",
    "print(q)\n",
    "print(q.get())"
   ]
  },
  {
   "cell_type": "markdown",
   "id": "d338cba7",
   "metadata": {},
   "source": [
    "### PYTHON List를 큐로 활용"
   ]
  },
  {
   "cell_type": "code",
   "execution_count": 37,
   "id": "5ad66fc9",
   "metadata": {},
   "outputs": [
    {
     "name": "stdout",
     "output_type": "stream",
     "text": [
      "[1, 5, 10]\n",
      "1\n",
      "5\n"
     ]
    }
   ],
   "source": [
    "q = []\n",
    "q.append(1)\n",
    "q.append(5)\n",
    "q.append(10)\n",
    "print(q)\n",
    "print(q.pop(0))\n",
    "print(q[0])"
   ]
  }
 ],
 "metadata": {
  "kernelspec": {
   "display_name": "Python 3 (ipykernel)",
   "language": "python",
   "name": "python3"
  },
  "language_info": {
   "codemirror_mode": {
    "name": "ipython",
    "version": 3
   },
   "file_extension": ".py",
   "mimetype": "text/x-python",
   "name": "python",
   "nbconvert_exporter": "python",
   "pygments_lexer": "ipython3",
   "version": "3.9.7"
  }
 },
 "nbformat": 4,
 "nbformat_minor": 5
}
