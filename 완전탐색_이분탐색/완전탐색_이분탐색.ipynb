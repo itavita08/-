{
 "cells": [
  {
   "cell_type": "markdown",
   "id": "ae0fe9cf",
   "metadata": {},
   "source": [
    "# 탐색\n",
    "- 많은 데이터 속에 원하는 데이터를 찾는것\n",
    "- 웹에서 특정문자를 가진 웹문서 찾기\n",
    "- 신용카드, 버스카드 (검색알고리즘 사용)\n",
    "- 완전탐색, 이분탐색, 깊이우선탐색, 너비우선선택등"
   ]
  },
  {
   "cell_type": "markdown",
   "id": "a608e68e",
   "metadata": {},
   "source": [
    "## 완전탐색\n",
    "- 브루트 포스(Brute Forcce)\n",
    "- 컴퓨터의 빠른 계산 성능을 활용하여 가능한 모든 경우의 수를 탐색\n",
    "- 효율성은 최악\n",
    "\n",
    "### 구현방법\n",
    "- 반복문\n",
    "- 재귀함수\n",
    "    - 동적 계획법\n",
    "    - 백트레킹\n",
    "    - 탐욕법"
   ]
  },
  {
   "cell_type": "markdown",
   "id": "558bab44",
   "metadata": {},
   "source": [
    "#### 반복문 "
   ]
  },
  {
   "cell_type": "code",
   "execution_count": 1,
   "id": "fcae12ee",
   "metadata": {},
   "outputs": [],
   "source": [
    "def solution(trump):\n",
    "    for i in range(len(trump)):\n",
    "        if trump[i] == 8:\n",
    "            return 1\n",
    "    return -1"
   ]
  },
  {
   "cell_type": "markdown",
   "id": "ef7fc99b",
   "metadata": {},
   "source": [
    "#### 재귀함수\n",
    "- 쉽게 무한루프에 빠질 수 있음"
   ]
  },
  {
   "cell_type": "code",
   "execution_count": null,
   "id": "e73049be",
   "metadata": {},
   "outputs": [],
   "source": [
    "def solution(trump,loc):\n",
    "    if trump[loc] == 8:\n",
    "        return loc\n",
    "    else:\n",
    "        return solution(trump,loc+1)  # solution함수가 solution 함수를 호출"
   ]
  },
  {
   "cell_type": "markdown",
   "id": "70b03ffc",
   "metadata": {},
   "source": [
    "## 이분탐색\n",
    "- 이진검색\n",
    "- 오름차순으로 **정렬된 리스트**에서 특정 값의 위치를 찾는 알고리즘\n",
    "- 중간의 값을 선택하여 찾고자 하는 값과의 크고 작음을 비교하는 방법"
   ]
  },
  {
   "cell_type": "code",
   "execution_count": null,
   "id": "eaa8d903",
   "metadata": {},
   "outputs": [],
   "source": [
    "def solution(trump):\n",
    "    left = 0\n",
    "    right = len(trump) - 1\n",
    "    while(left<=right):\n",
    "        mid = (left + right)//2\n",
    "        if trump[mid] == 8:\n",
    "            return mid\n",
    "        elif trump[mid] < 8:\n",
    "            left = mid + 1\n",
    "        elif trump[mid] < 8:\n",
    "            right = mid - 1\n",
    "    return mid"
   ]
  }
 ],
 "metadata": {
  "kernelspec": {
   "display_name": "Python 3 (ipykernel)",
   "language": "python",
   "name": "python3"
  },
  "language_info": {
   "codemirror_mode": {
    "name": "ipython",
    "version": 3
   },
   "file_extension": ".py",
   "mimetype": "text/x-python",
   "name": "python",
   "nbconvert_exporter": "python",
   "pygments_lexer": "ipython3",
   "version": "3.9.7"
  }
 },
 "nbformat": 4,
 "nbformat_minor": 5
}
